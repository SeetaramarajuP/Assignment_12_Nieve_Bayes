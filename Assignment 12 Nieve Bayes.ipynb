{
  "cells": [
    {
      "metadata": {
        "ExecuteTime": {
          "end_time": "2023-07-15T11:11:44.737106Z",
          "start_time": "2023-07-15T11:11:40.971236Z"
        },
        "trusted": true
      },
      "id": "19c29acb",
      "cell_type": "code",
      "source": "import pandas as pd\nimport numpy as np\nfrom sklearn.feature_extraction.text import CountVectorizer\nfrom sklearn.model_selection import train_test_split\nfrom sklearn.naive_bayes import MultinomialNB\nfrom sklearn.metrics import classification_report",
      "execution_count": 1,
      "outputs": []
    },
    {
      "metadata": {
        "ExecuteTime": {
          "end_time": "2023-07-15T11:11:53.970216Z",
          "start_time": "2023-07-15T11:11:53.750334Z"
        },
        "trusted": true
      },
      "id": "04d23159",
      "cell_type": "code",
      "source": "train=pd.read_csv('SalaryData_Train.csv')\ntest=pd.read_csv('SalaryData_Test.csv')\ntrain                  ",
      "execution_count": 2,
      "outputs": [
        {
          "data": {
            "text/html": "<div>\n<style scoped>\n    .dataframe tbody tr th:only-of-type {\n        vertical-align: middle;\n    }\n\n    .dataframe tbody tr th {\n        vertical-align: top;\n    }\n\n    .dataframe thead th {\n        text-align: right;\n    }\n</style>\n<table border=\"1\" class=\"dataframe\">\n  <thead>\n    <tr style=\"text-align: right;\">\n      <th></th>\n      <th>age</th>\n      <th>workclass</th>\n      <th>education</th>\n      <th>educationno</th>\n      <th>maritalstatus</th>\n      <th>occupation</th>\n      <th>relationship</th>\n      <th>race</th>\n      <th>sex</th>\n      <th>capitalgain</th>\n      <th>capitalloss</th>\n      <th>hoursperweek</th>\n      <th>native</th>\n      <th>Salary</th>\n    </tr>\n  </thead>\n  <tbody>\n    <tr>\n      <th>0</th>\n      <td>39</td>\n      <td>State-gov</td>\n      <td>Bachelors</td>\n      <td>13</td>\n      <td>Never-married</td>\n      <td>Adm-clerical</td>\n      <td>Not-in-family</td>\n      <td>White</td>\n      <td>Male</td>\n      <td>2174</td>\n      <td>0</td>\n      <td>40</td>\n      <td>United-States</td>\n      <td>&lt;=50K</td>\n    </tr>\n    <tr>\n      <th>1</th>\n      <td>50</td>\n      <td>Self-emp-not-inc</td>\n      <td>Bachelors</td>\n      <td>13</td>\n      <td>Married-civ-spouse</td>\n      <td>Exec-managerial</td>\n      <td>Husband</td>\n      <td>White</td>\n      <td>Male</td>\n      <td>0</td>\n      <td>0</td>\n      <td>13</td>\n      <td>United-States</td>\n      <td>&lt;=50K</td>\n    </tr>\n    <tr>\n      <th>2</th>\n      <td>38</td>\n      <td>Private</td>\n      <td>HS-grad</td>\n      <td>9</td>\n      <td>Divorced</td>\n      <td>Handlers-cleaners</td>\n      <td>Not-in-family</td>\n      <td>White</td>\n      <td>Male</td>\n      <td>0</td>\n      <td>0</td>\n      <td>40</td>\n      <td>United-States</td>\n      <td>&lt;=50K</td>\n    </tr>\n    <tr>\n      <th>3</th>\n      <td>53</td>\n      <td>Private</td>\n      <td>11th</td>\n      <td>7</td>\n      <td>Married-civ-spouse</td>\n      <td>Handlers-cleaners</td>\n      <td>Husband</td>\n      <td>Black</td>\n      <td>Male</td>\n      <td>0</td>\n      <td>0</td>\n      <td>40</td>\n      <td>United-States</td>\n      <td>&lt;=50K</td>\n    </tr>\n    <tr>\n      <th>4</th>\n      <td>28</td>\n      <td>Private</td>\n      <td>Bachelors</td>\n      <td>13</td>\n      <td>Married-civ-spouse</td>\n      <td>Prof-specialty</td>\n      <td>Wife</td>\n      <td>Black</td>\n      <td>Female</td>\n      <td>0</td>\n      <td>0</td>\n      <td>40</td>\n      <td>Cuba</td>\n      <td>&lt;=50K</td>\n    </tr>\n    <tr>\n      <th>...</th>\n      <td>...</td>\n      <td>...</td>\n      <td>...</td>\n      <td>...</td>\n      <td>...</td>\n      <td>...</td>\n      <td>...</td>\n      <td>...</td>\n      <td>...</td>\n      <td>...</td>\n      <td>...</td>\n      <td>...</td>\n      <td>...</td>\n      <td>...</td>\n    </tr>\n    <tr>\n      <th>30156</th>\n      <td>27</td>\n      <td>Private</td>\n      <td>Assoc-acdm</td>\n      <td>12</td>\n      <td>Married-civ-spouse</td>\n      <td>Tech-support</td>\n      <td>Wife</td>\n      <td>White</td>\n      <td>Female</td>\n      <td>0</td>\n      <td>0</td>\n      <td>38</td>\n      <td>United-States</td>\n      <td>&lt;=50K</td>\n    </tr>\n    <tr>\n      <th>30157</th>\n      <td>40</td>\n      <td>Private</td>\n      <td>HS-grad</td>\n      <td>9</td>\n      <td>Married-civ-spouse</td>\n      <td>Machine-op-inspct</td>\n      <td>Husband</td>\n      <td>White</td>\n      <td>Male</td>\n      <td>0</td>\n      <td>0</td>\n      <td>40</td>\n      <td>United-States</td>\n      <td>&gt;50K</td>\n    </tr>\n    <tr>\n      <th>30158</th>\n      <td>58</td>\n      <td>Private</td>\n      <td>HS-grad</td>\n      <td>9</td>\n      <td>Widowed</td>\n      <td>Adm-clerical</td>\n      <td>Unmarried</td>\n      <td>White</td>\n      <td>Female</td>\n      <td>0</td>\n      <td>0</td>\n      <td>40</td>\n      <td>United-States</td>\n      <td>&lt;=50K</td>\n    </tr>\n    <tr>\n      <th>30159</th>\n      <td>22</td>\n      <td>Private</td>\n      <td>HS-grad</td>\n      <td>9</td>\n      <td>Never-married</td>\n      <td>Adm-clerical</td>\n      <td>Own-child</td>\n      <td>White</td>\n      <td>Male</td>\n      <td>0</td>\n      <td>0</td>\n      <td>20</td>\n      <td>United-States</td>\n      <td>&lt;=50K</td>\n    </tr>\n    <tr>\n      <th>30160</th>\n      <td>52</td>\n      <td>Self-emp-inc</td>\n      <td>HS-grad</td>\n      <td>9</td>\n      <td>Married-civ-spouse</td>\n      <td>Exec-managerial</td>\n      <td>Wife</td>\n      <td>White</td>\n      <td>Female</td>\n      <td>15024</td>\n      <td>0</td>\n      <td>40</td>\n      <td>United-States</td>\n      <td>&gt;50K</td>\n    </tr>\n  </tbody>\n</table>\n<p>30161 rows × 14 columns</p>\n</div>",
            "text/plain": "       age          workclass    education  educationno        maritalstatus  \\\n0       39          State-gov    Bachelors           13        Never-married   \n1       50   Self-emp-not-inc    Bachelors           13   Married-civ-spouse   \n2       38            Private      HS-grad            9             Divorced   \n3       53            Private         11th            7   Married-civ-spouse   \n4       28            Private    Bachelors           13   Married-civ-spouse   \n...    ...                ...          ...          ...                  ...   \n30156   27            Private   Assoc-acdm           12   Married-civ-spouse   \n30157   40            Private      HS-grad            9   Married-civ-spouse   \n30158   58            Private      HS-grad            9              Widowed   \n30159   22            Private      HS-grad            9        Never-married   \n30160   52       Self-emp-inc      HS-grad            9   Married-civ-spouse   \n\n               occupation    relationship    race      sex  capitalgain  \\\n0            Adm-clerical   Not-in-family   White     Male         2174   \n1         Exec-managerial         Husband   White     Male            0   \n2       Handlers-cleaners   Not-in-family   White     Male            0   \n3       Handlers-cleaners         Husband   Black     Male            0   \n4          Prof-specialty            Wife   Black   Female            0   \n...                   ...             ...     ...      ...          ...   \n30156        Tech-support            Wife   White   Female            0   \n30157   Machine-op-inspct         Husband   White     Male            0   \n30158        Adm-clerical       Unmarried   White   Female            0   \n30159        Adm-clerical       Own-child   White     Male            0   \n30160     Exec-managerial            Wife   White   Female        15024   \n\n       capitalloss  hoursperweek          native  Salary  \n0                0            40   United-States   <=50K  \n1                0            13   United-States   <=50K  \n2                0            40   United-States   <=50K  \n3                0            40   United-States   <=50K  \n4                0            40            Cuba   <=50K  \n...            ...           ...             ...     ...  \n30156            0            38   United-States   <=50K  \n30157            0            40   United-States    >50K  \n30158            0            40   United-States   <=50K  \n30159            0            20   United-States   <=50K  \n30160            0            40   United-States    >50K  \n\n[30161 rows x 14 columns]"
          },
          "execution_count": 2,
          "metadata": {},
          "output_type": "execute_result"
        }
      ]
    },
    {
      "metadata": {
        "ExecuteTime": {
          "end_time": "2023-07-15T11:12:10.235440Z",
          "start_time": "2023-07-15T11:12:10.136300Z"
        },
        "trusted": true
      },
      "id": "a43e1f51",
      "cell_type": "code",
      "source": "train[train.duplicated()]",
      "execution_count": 3,
      "outputs": [
        {
          "data": {
            "text/html": "<div>\n<style scoped>\n    .dataframe tbody tr th:only-of-type {\n        vertical-align: middle;\n    }\n\n    .dataframe tbody tr th {\n        vertical-align: top;\n    }\n\n    .dataframe thead th {\n        text-align: right;\n    }\n</style>\n<table border=\"1\" class=\"dataframe\">\n  <thead>\n    <tr style=\"text-align: right;\">\n      <th></th>\n      <th>age</th>\n      <th>workclass</th>\n      <th>education</th>\n      <th>educationno</th>\n      <th>maritalstatus</th>\n      <th>occupation</th>\n      <th>relationship</th>\n      <th>race</th>\n      <th>sex</th>\n      <th>capitalgain</th>\n      <th>capitalloss</th>\n      <th>hoursperweek</th>\n      <th>native</th>\n      <th>Salary</th>\n    </tr>\n  </thead>\n  <tbody>\n    <tr>\n      <th>326</th>\n      <td>33</td>\n      <td>Private</td>\n      <td>Bachelors</td>\n      <td>13</td>\n      <td>Married-civ-spouse</td>\n      <td>Exec-managerial</td>\n      <td>Husband</td>\n      <td>White</td>\n      <td>Male</td>\n      <td>0</td>\n      <td>0</td>\n      <td>40</td>\n      <td>United-States</td>\n      <td>&gt;50K</td>\n    </tr>\n    <tr>\n      <th>364</th>\n      <td>27</td>\n      <td>Private</td>\n      <td>Bachelors</td>\n      <td>13</td>\n      <td>Never-married</td>\n      <td>Craft-repair</td>\n      <td>Not-in-family</td>\n      <td>White</td>\n      <td>Male</td>\n      <td>0</td>\n      <td>0</td>\n      <td>50</td>\n      <td>United-States</td>\n      <td>&lt;=50K</td>\n    </tr>\n    <tr>\n      <th>518</th>\n      <td>24</td>\n      <td>Private</td>\n      <td>HS-grad</td>\n      <td>9</td>\n      <td>Never-married</td>\n      <td>Handlers-cleaners</td>\n      <td>Unmarried</td>\n      <td>Black</td>\n      <td>Female</td>\n      <td>0</td>\n      <td>0</td>\n      <td>40</td>\n      <td>United-States</td>\n      <td>&lt;=50K</td>\n    </tr>\n    <tr>\n      <th>525</th>\n      <td>24</td>\n      <td>Private</td>\n      <td>HS-grad</td>\n      <td>9</td>\n      <td>Never-married</td>\n      <td>Craft-repair</td>\n      <td>Own-child</td>\n      <td>White</td>\n      <td>Male</td>\n      <td>0</td>\n      <td>0</td>\n      <td>40</td>\n      <td>United-States</td>\n      <td>&lt;=50K</td>\n    </tr>\n    <tr>\n      <th>619</th>\n      <td>33</td>\n      <td>Private</td>\n      <td>Bachelors</td>\n      <td>13</td>\n      <td>Married-civ-spouse</td>\n      <td>Exec-managerial</td>\n      <td>Husband</td>\n      <td>White</td>\n      <td>Male</td>\n      <td>0</td>\n      <td>0</td>\n      <td>40</td>\n      <td>United-States</td>\n      <td>&gt;50K</td>\n    </tr>\n    <tr>\n      <th>...</th>\n      <td>...</td>\n      <td>...</td>\n      <td>...</td>\n      <td>...</td>\n      <td>...</td>\n      <td>...</td>\n      <td>...</td>\n      <td>...</td>\n      <td>...</td>\n      <td>...</td>\n      <td>...</td>\n      <td>...</td>\n      <td>...</td>\n      <td>...</td>\n    </tr>\n    <tr>\n      <th>30110</th>\n      <td>47</td>\n      <td>Private</td>\n      <td>HS-grad</td>\n      <td>9</td>\n      <td>Married-civ-spouse</td>\n      <td>Craft-repair</td>\n      <td>Husband</td>\n      <td>White</td>\n      <td>Male</td>\n      <td>0</td>\n      <td>0</td>\n      <td>40</td>\n      <td>United-States</td>\n      <td>&lt;=50K</td>\n    </tr>\n    <tr>\n      <th>30118</th>\n      <td>20</td>\n      <td>Private</td>\n      <td>HS-grad</td>\n      <td>9</td>\n      <td>Never-married</td>\n      <td>Machine-op-inspct</td>\n      <td>Own-child</td>\n      <td>White</td>\n      <td>Male</td>\n      <td>0</td>\n      <td>0</td>\n      <td>40</td>\n      <td>United-States</td>\n      <td>&lt;=50K</td>\n    </tr>\n    <tr>\n      <th>30132</th>\n      <td>22</td>\n      <td>Private</td>\n      <td>Some-college</td>\n      <td>10</td>\n      <td>Never-married</td>\n      <td>Adm-clerical</td>\n      <td>Own-child</td>\n      <td>White</td>\n      <td>Male</td>\n      <td>0</td>\n      <td>0</td>\n      <td>40</td>\n      <td>United-States</td>\n      <td>&lt;=50K</td>\n    </tr>\n    <tr>\n      <th>30157</th>\n      <td>40</td>\n      <td>Private</td>\n      <td>HS-grad</td>\n      <td>9</td>\n      <td>Married-civ-spouse</td>\n      <td>Machine-op-inspct</td>\n      <td>Husband</td>\n      <td>White</td>\n      <td>Male</td>\n      <td>0</td>\n      <td>0</td>\n      <td>40</td>\n      <td>United-States</td>\n      <td>&gt;50K</td>\n    </tr>\n    <tr>\n      <th>30159</th>\n      <td>22</td>\n      <td>Private</td>\n      <td>HS-grad</td>\n      <td>9</td>\n      <td>Never-married</td>\n      <td>Adm-clerical</td>\n      <td>Own-child</td>\n      <td>White</td>\n      <td>Male</td>\n      <td>0</td>\n      <td>0</td>\n      <td>20</td>\n      <td>United-States</td>\n      <td>&lt;=50K</td>\n    </tr>\n  </tbody>\n</table>\n<p>3258 rows × 14 columns</p>\n</div>",
            "text/plain": "       age workclass      education  educationno        maritalstatus  \\\n326     33   Private      Bachelors           13   Married-civ-spouse   \n364     27   Private      Bachelors           13        Never-married   \n518     24   Private        HS-grad            9        Never-married   \n525     24   Private        HS-grad            9        Never-married   \n619     33   Private      Bachelors           13   Married-civ-spouse   \n...    ...       ...            ...          ...                  ...   \n30110   47   Private        HS-grad            9   Married-civ-spouse   \n30118   20   Private        HS-grad            9        Never-married   \n30132   22   Private   Some-college           10        Never-married   \n30157   40   Private        HS-grad            9   Married-civ-spouse   \n30159   22   Private        HS-grad            9        Never-married   \n\n               occupation    relationship    race      sex  capitalgain  \\\n326       Exec-managerial         Husband   White     Male            0   \n364          Craft-repair   Not-in-family   White     Male            0   \n518     Handlers-cleaners       Unmarried   Black   Female            0   \n525          Craft-repair       Own-child   White     Male            0   \n619       Exec-managerial         Husband   White     Male            0   \n...                   ...             ...     ...      ...          ...   \n30110        Craft-repair         Husband   White     Male            0   \n30118   Machine-op-inspct       Own-child   White     Male            0   \n30132        Adm-clerical       Own-child   White     Male            0   \n30157   Machine-op-inspct         Husband   White     Male            0   \n30159        Adm-clerical       Own-child   White     Male            0   \n\n       capitalloss  hoursperweek          native  Salary  \n326              0            40   United-States    >50K  \n364              0            50   United-States   <=50K  \n518              0            40   United-States   <=50K  \n525              0            40   United-States   <=50K  \n619              0            40   United-States    >50K  \n...            ...           ...             ...     ...  \n30110            0            40   United-States   <=50K  \n30118            0            40   United-States   <=50K  \n30132            0            40   United-States   <=50K  \n30157            0            40   United-States    >50K  \n30159            0            20   United-States   <=50K  \n\n[3258 rows x 14 columns]"
          },
          "execution_count": 3,
          "metadata": {},
          "output_type": "execute_result"
        }
      ]
    },
    {
      "metadata": {
        "ExecuteTime": {
          "end_time": "2023-07-15T11:12:18.238756Z",
          "start_time": "2023-07-15T11:12:18.143540Z"
        },
        "trusted": true
      },
      "id": "ed383866",
      "cell_type": "code",
      "source": "Train =train.drop_duplicates()\nTrain",
      "execution_count": 4,
      "outputs": [
        {
          "data": {
            "text/html": "<div>\n<style scoped>\n    .dataframe tbody tr th:only-of-type {\n        vertical-align: middle;\n    }\n\n    .dataframe tbody tr th {\n        vertical-align: top;\n    }\n\n    .dataframe thead th {\n        text-align: right;\n    }\n</style>\n<table border=\"1\" class=\"dataframe\">\n  <thead>\n    <tr style=\"text-align: right;\">\n      <th></th>\n      <th>age</th>\n      <th>workclass</th>\n      <th>education</th>\n      <th>educationno</th>\n      <th>maritalstatus</th>\n      <th>occupation</th>\n      <th>relationship</th>\n      <th>race</th>\n      <th>sex</th>\n      <th>capitalgain</th>\n      <th>capitalloss</th>\n      <th>hoursperweek</th>\n      <th>native</th>\n      <th>Salary</th>\n    </tr>\n  </thead>\n  <tbody>\n    <tr>\n      <th>0</th>\n      <td>39</td>\n      <td>State-gov</td>\n      <td>Bachelors</td>\n      <td>13</td>\n      <td>Never-married</td>\n      <td>Adm-clerical</td>\n      <td>Not-in-family</td>\n      <td>White</td>\n      <td>Male</td>\n      <td>2174</td>\n      <td>0</td>\n      <td>40</td>\n      <td>United-States</td>\n      <td>&lt;=50K</td>\n    </tr>\n    <tr>\n      <th>1</th>\n      <td>50</td>\n      <td>Self-emp-not-inc</td>\n      <td>Bachelors</td>\n      <td>13</td>\n      <td>Married-civ-spouse</td>\n      <td>Exec-managerial</td>\n      <td>Husband</td>\n      <td>White</td>\n      <td>Male</td>\n      <td>0</td>\n      <td>0</td>\n      <td>13</td>\n      <td>United-States</td>\n      <td>&lt;=50K</td>\n    </tr>\n    <tr>\n      <th>2</th>\n      <td>38</td>\n      <td>Private</td>\n      <td>HS-grad</td>\n      <td>9</td>\n      <td>Divorced</td>\n      <td>Handlers-cleaners</td>\n      <td>Not-in-family</td>\n      <td>White</td>\n      <td>Male</td>\n      <td>0</td>\n      <td>0</td>\n      <td>40</td>\n      <td>United-States</td>\n      <td>&lt;=50K</td>\n    </tr>\n    <tr>\n      <th>3</th>\n      <td>53</td>\n      <td>Private</td>\n      <td>11th</td>\n      <td>7</td>\n      <td>Married-civ-spouse</td>\n      <td>Handlers-cleaners</td>\n      <td>Husband</td>\n      <td>Black</td>\n      <td>Male</td>\n      <td>0</td>\n      <td>0</td>\n      <td>40</td>\n      <td>United-States</td>\n      <td>&lt;=50K</td>\n    </tr>\n    <tr>\n      <th>4</th>\n      <td>28</td>\n      <td>Private</td>\n      <td>Bachelors</td>\n      <td>13</td>\n      <td>Married-civ-spouse</td>\n      <td>Prof-specialty</td>\n      <td>Wife</td>\n      <td>Black</td>\n      <td>Female</td>\n      <td>0</td>\n      <td>0</td>\n      <td>40</td>\n      <td>Cuba</td>\n      <td>&lt;=50K</td>\n    </tr>\n    <tr>\n      <th>...</th>\n      <td>...</td>\n      <td>...</td>\n      <td>...</td>\n      <td>...</td>\n      <td>...</td>\n      <td>...</td>\n      <td>...</td>\n      <td>...</td>\n      <td>...</td>\n      <td>...</td>\n      <td>...</td>\n      <td>...</td>\n      <td>...</td>\n      <td>...</td>\n    </tr>\n    <tr>\n      <th>30154</th>\n      <td>53</td>\n      <td>Private</td>\n      <td>Masters</td>\n      <td>14</td>\n      <td>Married-civ-spouse</td>\n      <td>Exec-managerial</td>\n      <td>Husband</td>\n      <td>White</td>\n      <td>Male</td>\n      <td>0</td>\n      <td>0</td>\n      <td>40</td>\n      <td>United-States</td>\n      <td>&gt;50K</td>\n    </tr>\n    <tr>\n      <th>30155</th>\n      <td>22</td>\n      <td>Private</td>\n      <td>Some-college</td>\n      <td>10</td>\n      <td>Never-married</td>\n      <td>Protective-serv</td>\n      <td>Not-in-family</td>\n      <td>White</td>\n      <td>Male</td>\n      <td>0</td>\n      <td>0</td>\n      <td>40</td>\n      <td>United-States</td>\n      <td>&lt;=50K</td>\n    </tr>\n    <tr>\n      <th>30156</th>\n      <td>27</td>\n      <td>Private</td>\n      <td>Assoc-acdm</td>\n      <td>12</td>\n      <td>Married-civ-spouse</td>\n      <td>Tech-support</td>\n      <td>Wife</td>\n      <td>White</td>\n      <td>Female</td>\n      <td>0</td>\n      <td>0</td>\n      <td>38</td>\n      <td>United-States</td>\n      <td>&lt;=50K</td>\n    </tr>\n    <tr>\n      <th>30158</th>\n      <td>58</td>\n      <td>Private</td>\n      <td>HS-grad</td>\n      <td>9</td>\n      <td>Widowed</td>\n      <td>Adm-clerical</td>\n      <td>Unmarried</td>\n      <td>White</td>\n      <td>Female</td>\n      <td>0</td>\n      <td>0</td>\n      <td>40</td>\n      <td>United-States</td>\n      <td>&lt;=50K</td>\n    </tr>\n    <tr>\n      <th>30160</th>\n      <td>52</td>\n      <td>Self-emp-inc</td>\n      <td>HS-grad</td>\n      <td>9</td>\n      <td>Married-civ-spouse</td>\n      <td>Exec-managerial</td>\n      <td>Wife</td>\n      <td>White</td>\n      <td>Female</td>\n      <td>15024</td>\n      <td>0</td>\n      <td>40</td>\n      <td>United-States</td>\n      <td>&gt;50K</td>\n    </tr>\n  </tbody>\n</table>\n<p>26903 rows × 14 columns</p>\n</div>",
            "text/plain": "       age          workclass      education  educationno  \\\n0       39          State-gov      Bachelors           13   \n1       50   Self-emp-not-inc      Bachelors           13   \n2       38            Private        HS-grad            9   \n3       53            Private           11th            7   \n4       28            Private      Bachelors           13   \n...    ...                ...            ...          ...   \n30154   53            Private        Masters           14   \n30155   22            Private   Some-college           10   \n30156   27            Private     Assoc-acdm           12   \n30158   58            Private        HS-grad            9   \n30160   52       Self-emp-inc        HS-grad            9   \n\n             maritalstatus          occupation    relationship    race  \\\n0            Never-married        Adm-clerical   Not-in-family   White   \n1       Married-civ-spouse     Exec-managerial         Husband   White   \n2                 Divorced   Handlers-cleaners   Not-in-family   White   \n3       Married-civ-spouse   Handlers-cleaners         Husband   Black   \n4       Married-civ-spouse      Prof-specialty            Wife   Black   \n...                    ...                 ...             ...     ...   \n30154   Married-civ-spouse     Exec-managerial         Husband   White   \n30155        Never-married     Protective-serv   Not-in-family   White   \n30156   Married-civ-spouse        Tech-support            Wife   White   \n30158              Widowed        Adm-clerical       Unmarried   White   \n30160   Married-civ-spouse     Exec-managerial            Wife   White   \n\n           sex  capitalgain  capitalloss  hoursperweek          native  Salary  \n0         Male         2174            0            40   United-States   <=50K  \n1         Male            0            0            13   United-States   <=50K  \n2         Male            0            0            40   United-States   <=50K  \n3         Male            0            0            40   United-States   <=50K  \n4       Female            0            0            40            Cuba   <=50K  \n...        ...          ...          ...           ...             ...     ...  \n30154     Male            0            0            40   United-States    >50K  \n30155     Male            0            0            40   United-States   <=50K  \n30156   Female            0            0            38   United-States   <=50K  \n30158   Female            0            0            40   United-States   <=50K  \n30160   Female        15024            0            40   United-States    >50K  \n\n[26903 rows x 14 columns]"
          },
          "execution_count": 4,
          "metadata": {},
          "output_type": "execute_result"
        }
      ]
    },
    {
      "metadata": {
        "ExecuteTime": {
          "end_time": "2023-07-15T11:12:22.757692Z",
          "start_time": "2023-07-15T11:12:22.679193Z"
        },
        "trusted": true
      },
      "id": "09a6b659",
      "cell_type": "code",
      "source": "test[test.duplicated()]",
      "execution_count": 5,
      "outputs": [
        {
          "data": {
            "text/html": "<div>\n<style scoped>\n    .dataframe tbody tr th:only-of-type {\n        vertical-align: middle;\n    }\n\n    .dataframe tbody tr th {\n        vertical-align: top;\n    }\n\n    .dataframe thead th {\n        text-align: right;\n    }\n</style>\n<table border=\"1\" class=\"dataframe\">\n  <thead>\n    <tr style=\"text-align: right;\">\n      <th></th>\n      <th>age</th>\n      <th>workclass</th>\n      <th>education</th>\n      <th>educationno</th>\n      <th>maritalstatus</th>\n      <th>occupation</th>\n      <th>relationship</th>\n      <th>race</th>\n      <th>sex</th>\n      <th>capitalgain</th>\n      <th>capitalloss</th>\n      <th>hoursperweek</th>\n      <th>native</th>\n      <th>Salary</th>\n    </tr>\n  </thead>\n  <tbody>\n    <tr>\n      <th>551</th>\n      <td>59</td>\n      <td>Private</td>\n      <td>HS-grad</td>\n      <td>9</td>\n      <td>Divorced</td>\n      <td>Other-service</td>\n      <td>Not-in-family</td>\n      <td>White</td>\n      <td>Female</td>\n      <td>0</td>\n      <td>0</td>\n      <td>40</td>\n      <td>United-States</td>\n      <td>&lt;=50K</td>\n    </tr>\n    <tr>\n      <th>601</th>\n      <td>32</td>\n      <td>Private</td>\n      <td>HS-grad</td>\n      <td>9</td>\n      <td>Married-civ-spouse</td>\n      <td>Sales</td>\n      <td>Husband</td>\n      <td>White</td>\n      <td>Male</td>\n      <td>0</td>\n      <td>0</td>\n      <td>40</td>\n      <td>United-States</td>\n      <td>&lt;=50K</td>\n    </tr>\n    <tr>\n      <th>681</th>\n      <td>40</td>\n      <td>Private</td>\n      <td>HS-grad</td>\n      <td>9</td>\n      <td>Married-civ-spouse</td>\n      <td>Craft-repair</td>\n      <td>Husband</td>\n      <td>White</td>\n      <td>Male</td>\n      <td>0</td>\n      <td>0</td>\n      <td>40</td>\n      <td>United-States</td>\n      <td>&lt;=50K</td>\n    </tr>\n    <tr>\n      <th>799</th>\n      <td>24</td>\n      <td>Private</td>\n      <td>Bachelors</td>\n      <td>13</td>\n      <td>Never-married</td>\n      <td>Prof-specialty</td>\n      <td>Not-in-family</td>\n      <td>White</td>\n      <td>Male</td>\n      <td>0</td>\n      <td>0</td>\n      <td>35</td>\n      <td>United-States</td>\n      <td>&lt;=50K</td>\n    </tr>\n    <tr>\n      <th>1044</th>\n      <td>44</td>\n      <td>Private</td>\n      <td>Prof-school</td>\n      <td>15</td>\n      <td>Married-civ-spouse</td>\n      <td>Prof-specialty</td>\n      <td>Husband</td>\n      <td>White</td>\n      <td>Male</td>\n      <td>99999</td>\n      <td>0</td>\n      <td>60</td>\n      <td>United-States</td>\n      <td>&gt;50K</td>\n    </tr>\n    <tr>\n      <th>...</th>\n      <td>...</td>\n      <td>...</td>\n      <td>...</td>\n      <td>...</td>\n      <td>...</td>\n      <td>...</td>\n      <td>...</td>\n      <td>...</td>\n      <td>...</td>\n      <td>...</td>\n      <td>...</td>\n      <td>...</td>\n      <td>...</td>\n      <td>...</td>\n    </tr>\n    <tr>\n      <th>15043</th>\n      <td>51</td>\n      <td>Private</td>\n      <td>HS-grad</td>\n      <td>9</td>\n      <td>Married-civ-spouse</td>\n      <td>Craft-repair</td>\n      <td>Husband</td>\n      <td>White</td>\n      <td>Male</td>\n      <td>0</td>\n      <td>0</td>\n      <td>40</td>\n      <td>United-States</td>\n      <td>&lt;=50K</td>\n    </tr>\n    <tr>\n      <th>15044</th>\n      <td>22</td>\n      <td>Private</td>\n      <td>Some-college</td>\n      <td>10</td>\n      <td>Never-married</td>\n      <td>Craft-repair</td>\n      <td>Own-child</td>\n      <td>White</td>\n      <td>Male</td>\n      <td>0</td>\n      <td>0</td>\n      <td>40</td>\n      <td>United-States</td>\n      <td>&lt;=50K</td>\n    </tr>\n    <tr>\n      <th>15049</th>\n      <td>32</td>\n      <td>Private</td>\n      <td>HS-grad</td>\n      <td>9</td>\n      <td>Married-civ-spouse</td>\n      <td>Handlers-cleaners</td>\n      <td>Husband</td>\n      <td>White</td>\n      <td>Male</td>\n      <td>0</td>\n      <td>0</td>\n      <td>40</td>\n      <td>United-States</td>\n      <td>&lt;=50K</td>\n    </tr>\n    <tr>\n      <th>15052</th>\n      <td>31</td>\n      <td>Private</td>\n      <td>HS-grad</td>\n      <td>9</td>\n      <td>Married-civ-spouse</td>\n      <td>Craft-repair</td>\n      <td>Husband</td>\n      <td>White</td>\n      <td>Male</td>\n      <td>0</td>\n      <td>0</td>\n      <td>40</td>\n      <td>United-States</td>\n      <td>&lt;=50K</td>\n    </tr>\n    <tr>\n      <th>15053</th>\n      <td>25</td>\n      <td>Private</td>\n      <td>HS-grad</td>\n      <td>9</td>\n      <td>Never-married</td>\n      <td>Other-service</td>\n      <td>Own-child</td>\n      <td>White</td>\n      <td>Female</td>\n      <td>0</td>\n      <td>0</td>\n      <td>40</td>\n      <td>United-States</td>\n      <td>&lt;=50K</td>\n    </tr>\n  </tbody>\n</table>\n<p>930 rows × 14 columns</p>\n</div>",
            "text/plain": "       age workclass      education  educationno        maritalstatus  \\\n551     59   Private        HS-grad            9             Divorced   \n601     32   Private        HS-grad            9   Married-civ-spouse   \n681     40   Private        HS-grad            9   Married-civ-spouse   \n799     24   Private      Bachelors           13        Never-married   \n1044    44   Private    Prof-school           15   Married-civ-spouse   \n...    ...       ...            ...          ...                  ...   \n15043   51   Private        HS-grad            9   Married-civ-spouse   \n15044   22   Private   Some-college           10        Never-married   \n15049   32   Private        HS-grad            9   Married-civ-spouse   \n15052   31   Private        HS-grad            9   Married-civ-spouse   \n15053   25   Private        HS-grad            9        Never-married   \n\n               occupation    relationship    race      sex  capitalgain  \\\n551         Other-service   Not-in-family   White   Female            0   \n601                 Sales         Husband   White     Male            0   \n681          Craft-repair         Husband   White     Male            0   \n799        Prof-specialty   Not-in-family   White     Male            0   \n1044       Prof-specialty         Husband   White     Male        99999   \n...                   ...             ...     ...      ...          ...   \n15043        Craft-repair         Husband   White     Male            0   \n15044        Craft-repair       Own-child   White     Male            0   \n15049   Handlers-cleaners         Husband   White     Male            0   \n15052        Craft-repair         Husband   White     Male            0   \n15053       Other-service       Own-child   White   Female            0   \n\n       capitalloss  hoursperweek          native  Salary  \n551              0            40   United-States   <=50K  \n601              0            40   United-States   <=50K  \n681              0            40   United-States   <=50K  \n799              0            35   United-States   <=50K  \n1044             0            60   United-States    >50K  \n...            ...           ...             ...     ...  \n15043            0            40   United-States   <=50K  \n15044            0            40   United-States   <=50K  \n15049            0            40   United-States   <=50K  \n15052            0            40   United-States   <=50K  \n15053            0            40   United-States   <=50K  \n\n[930 rows x 14 columns]"
          },
          "execution_count": 5,
          "metadata": {},
          "output_type": "execute_result"
        }
      ]
    },
    {
      "metadata": {
        "ExecuteTime": {
          "end_time": "2023-07-15T11:12:26.130018Z",
          "start_time": "2023-07-15T11:12:26.055490Z"
        },
        "trusted": true
      },
      "id": "6548579e",
      "cell_type": "code",
      "source": "Test=test.drop_duplicates()\nTest",
      "execution_count": 6,
      "outputs": [
        {
          "data": {
            "text/html": "<div>\n<style scoped>\n    .dataframe tbody tr th:only-of-type {\n        vertical-align: middle;\n    }\n\n    .dataframe tbody tr th {\n        vertical-align: top;\n    }\n\n    .dataframe thead th {\n        text-align: right;\n    }\n</style>\n<table border=\"1\" class=\"dataframe\">\n  <thead>\n    <tr style=\"text-align: right;\">\n      <th></th>\n      <th>age</th>\n      <th>workclass</th>\n      <th>education</th>\n      <th>educationno</th>\n      <th>maritalstatus</th>\n      <th>occupation</th>\n      <th>relationship</th>\n      <th>race</th>\n      <th>sex</th>\n      <th>capitalgain</th>\n      <th>capitalloss</th>\n      <th>hoursperweek</th>\n      <th>native</th>\n      <th>Salary</th>\n    </tr>\n  </thead>\n  <tbody>\n    <tr>\n      <th>0</th>\n      <td>25</td>\n      <td>Private</td>\n      <td>11th</td>\n      <td>7</td>\n      <td>Never-married</td>\n      <td>Machine-op-inspct</td>\n      <td>Own-child</td>\n      <td>Black</td>\n      <td>Male</td>\n      <td>0</td>\n      <td>0</td>\n      <td>40</td>\n      <td>United-States</td>\n      <td>&lt;=50K</td>\n    </tr>\n    <tr>\n      <th>1</th>\n      <td>38</td>\n      <td>Private</td>\n      <td>HS-grad</td>\n      <td>9</td>\n      <td>Married-civ-spouse</td>\n      <td>Farming-fishing</td>\n      <td>Husband</td>\n      <td>White</td>\n      <td>Male</td>\n      <td>0</td>\n      <td>0</td>\n      <td>50</td>\n      <td>United-States</td>\n      <td>&lt;=50K</td>\n    </tr>\n    <tr>\n      <th>2</th>\n      <td>28</td>\n      <td>Local-gov</td>\n      <td>Assoc-acdm</td>\n      <td>12</td>\n      <td>Married-civ-spouse</td>\n      <td>Protective-serv</td>\n      <td>Husband</td>\n      <td>White</td>\n      <td>Male</td>\n      <td>0</td>\n      <td>0</td>\n      <td>40</td>\n      <td>United-States</td>\n      <td>&gt;50K</td>\n    </tr>\n    <tr>\n      <th>3</th>\n      <td>44</td>\n      <td>Private</td>\n      <td>Some-college</td>\n      <td>10</td>\n      <td>Married-civ-spouse</td>\n      <td>Machine-op-inspct</td>\n      <td>Husband</td>\n      <td>Black</td>\n      <td>Male</td>\n      <td>7688</td>\n      <td>0</td>\n      <td>40</td>\n      <td>United-States</td>\n      <td>&gt;50K</td>\n    </tr>\n    <tr>\n      <th>4</th>\n      <td>34</td>\n      <td>Private</td>\n      <td>10th</td>\n      <td>6</td>\n      <td>Never-married</td>\n      <td>Other-service</td>\n      <td>Not-in-family</td>\n      <td>White</td>\n      <td>Male</td>\n      <td>0</td>\n      <td>0</td>\n      <td>30</td>\n      <td>United-States</td>\n      <td>&lt;=50K</td>\n    </tr>\n    <tr>\n      <th>...</th>\n      <td>...</td>\n      <td>...</td>\n      <td>...</td>\n      <td>...</td>\n      <td>...</td>\n      <td>...</td>\n      <td>...</td>\n      <td>...</td>\n      <td>...</td>\n      <td>...</td>\n      <td>...</td>\n      <td>...</td>\n      <td>...</td>\n      <td>...</td>\n    </tr>\n    <tr>\n      <th>15055</th>\n      <td>33</td>\n      <td>Private</td>\n      <td>Bachelors</td>\n      <td>13</td>\n      <td>Never-married</td>\n      <td>Prof-specialty</td>\n      <td>Own-child</td>\n      <td>White</td>\n      <td>Male</td>\n      <td>0</td>\n      <td>0</td>\n      <td>40</td>\n      <td>United-States</td>\n      <td>&lt;=50K</td>\n    </tr>\n    <tr>\n      <th>15056</th>\n      <td>39</td>\n      <td>Private</td>\n      <td>Bachelors</td>\n      <td>13</td>\n      <td>Divorced</td>\n      <td>Prof-specialty</td>\n      <td>Not-in-family</td>\n      <td>White</td>\n      <td>Female</td>\n      <td>0</td>\n      <td>0</td>\n      <td>36</td>\n      <td>United-States</td>\n      <td>&lt;=50K</td>\n    </tr>\n    <tr>\n      <th>15057</th>\n      <td>38</td>\n      <td>Private</td>\n      <td>Bachelors</td>\n      <td>13</td>\n      <td>Married-civ-spouse</td>\n      <td>Prof-specialty</td>\n      <td>Husband</td>\n      <td>White</td>\n      <td>Male</td>\n      <td>0</td>\n      <td>0</td>\n      <td>50</td>\n      <td>United-States</td>\n      <td>&lt;=50K</td>\n    </tr>\n    <tr>\n      <th>15058</th>\n      <td>44</td>\n      <td>Private</td>\n      <td>Bachelors</td>\n      <td>13</td>\n      <td>Divorced</td>\n      <td>Adm-clerical</td>\n      <td>Own-child</td>\n      <td>Asian-Pac-Islander</td>\n      <td>Male</td>\n      <td>5455</td>\n      <td>0</td>\n      <td>40</td>\n      <td>United-States</td>\n      <td>&lt;=50K</td>\n    </tr>\n    <tr>\n      <th>15059</th>\n      <td>35</td>\n      <td>Self-emp-inc</td>\n      <td>Bachelors</td>\n      <td>13</td>\n      <td>Married-civ-spouse</td>\n      <td>Exec-managerial</td>\n      <td>Husband</td>\n      <td>White</td>\n      <td>Male</td>\n      <td>0</td>\n      <td>0</td>\n      <td>60</td>\n      <td>United-States</td>\n      <td>&gt;50K</td>\n    </tr>\n  </tbody>\n</table>\n<p>14130 rows × 14 columns</p>\n</div>",
            "text/plain": "       age      workclass      education  educationno        maritalstatus  \\\n0       25        Private           11th            7        Never-married   \n1       38        Private        HS-grad            9   Married-civ-spouse   \n2       28      Local-gov     Assoc-acdm           12   Married-civ-spouse   \n3       44        Private   Some-college           10   Married-civ-spouse   \n4       34        Private           10th            6        Never-married   \n...    ...            ...            ...          ...                  ...   \n15055   33        Private      Bachelors           13        Never-married   \n15056   39        Private      Bachelors           13             Divorced   \n15057   38        Private      Bachelors           13   Married-civ-spouse   \n15058   44        Private      Bachelors           13             Divorced   \n15059   35   Self-emp-inc      Bachelors           13   Married-civ-spouse   \n\n               occupation    relationship                 race      sex  \\\n0       Machine-op-inspct       Own-child                Black     Male   \n1         Farming-fishing         Husband                White     Male   \n2         Protective-serv         Husband                White     Male   \n3       Machine-op-inspct         Husband                Black     Male   \n4           Other-service   Not-in-family                White     Male   \n...                   ...             ...                  ...      ...   \n15055      Prof-specialty       Own-child                White     Male   \n15056      Prof-specialty   Not-in-family                White   Female   \n15057      Prof-specialty         Husband                White     Male   \n15058        Adm-clerical       Own-child   Asian-Pac-Islander     Male   \n15059     Exec-managerial         Husband                White     Male   \n\n       capitalgain  capitalloss  hoursperweek          native  Salary  \n0                0            0            40   United-States   <=50K  \n1                0            0            50   United-States   <=50K  \n2                0            0            40   United-States    >50K  \n3             7688            0            40   United-States    >50K  \n4                0            0            30   United-States   <=50K  \n...            ...          ...           ...             ...     ...  \n15055            0            0            40   United-States   <=50K  \n15056            0            0            36   United-States   <=50K  \n15057            0            0            50   United-States   <=50K  \n15058         5455            0            40   United-States   <=50K  \n15059            0            0            60   United-States    >50K  \n\n[14130 rows x 14 columns]"
          },
          "execution_count": 6,
          "metadata": {},
          "output_type": "execute_result"
        }
      ]
    },
    {
      "metadata": {
        "ExecuteTime": {
          "end_time": "2023-07-15T11:13:30.620660Z",
          "start_time": "2023-07-15T11:13:29.274148Z"
        },
        "trusted": true
      },
      "id": "1902f260",
      "cell_type": "code",
      "source": "columns = [\"workclass\",\"education\",\"maritalstatus\",\"occupation\",\"relationship\",\"race\",\"sex\",\"capitalgain\",\"capitalloss\",\"native\"]\nfrom sklearn.preprocessing import LabelEncoder\nnumber = LabelEncoder()\nfor i in columns:\n        Train[i]= number.fit_transform(Train[i])\n        Test[i]=number.fit_transform(Test[i])",
      "execution_count": 8,
      "outputs": [
        {
          "name": "stderr",
          "output_type": "stream",
          "text": "C:\\Users\\DELL\\AppData\\Local\\Temp\\ipykernel_10084\\2766967826.py:5: SettingWithCopyWarning: \nA value is trying to be set on a copy of a slice from a DataFrame.\nTry using .loc[row_indexer,col_indexer] = value instead\n\nSee the caveats in the documentation: https://pandas.pydata.org/pandas-docs/stable/user_guide/indexing.html#returning-a-view-versus-a-copy\n  Train[i]= number.fit_transform(Train[i])\nC:\\Users\\DELL\\AppData\\Local\\Temp\\ipykernel_10084\\2766967826.py:6: SettingWithCopyWarning: \nA value is trying to be set on a copy of a slice from a DataFrame.\nTry using .loc[row_indexer,col_indexer] = value instead\n\nSee the caveats in the documentation: https://pandas.pydata.org/pandas-docs/stable/user_guide/indexing.html#returning-a-view-versus-a-copy\n  Test[i]=number.fit_transform(Test[i])\n"
        }
      ]
    },
    {
      "metadata": {
        "ExecuteTime": {
          "end_time": "2023-07-15T11:13:33.980742Z",
          "start_time": "2023-07-15T11:13:33.933671Z"
        },
        "trusted": true
      },
      "id": "91c25159",
      "cell_type": "code",
      "source": "x_train=Train.iloc[:,0:13]\ny_train=Train.iloc[:,13]\nx_test=Test.iloc[:,0:13]\ny_test=Test.iloc[:,13]\nprint(x_train)\nprint(x_test)",
      "execution_count": 9,
      "outputs": [
        {
          "name": "stdout",
          "output_type": "stream",
          "text": "       age  workclass  education  educationno  maritalstatus  occupation  \\\n0       39          5          9           13              4           0   \n1       50          4          9           13              2           3   \n2       38          2         11            9              0           5   \n3       53          2          1            7              2           5   \n4       28          2          9           13              2           9   \n...    ...        ...        ...          ...            ...         ...   \n30154   53          2         12           14              2           3   \n30155   22          2         15           10              4          10   \n30156   27          2          7           12              2          12   \n30158   58          2         11            9              6           0   \n30160   52          3         11            9              2           3   \n\n       relationship  race  sex  capitalgain  capitalloss  hoursperweek  native  \n0                 1     4    1           24            0            40      37  \n1                 0     4    1            0            0            13      37  \n2                 1     4    1            0            0            40      37  \n3                 0     2    1            0            0            40      37  \n4                 5     2    0            0            0            40       4  \n...             ...   ...  ...          ...          ...           ...     ...  \n30154             0     4    1            0            0            40      37  \n30155             1     4    1            0            0            40      37  \n30156             5     4    0            0            0            38      37  \n30158             4     4    0            0            0            40      37  \n30160             5     4    0          107            0            40      37  \n\n[26903 rows x 13 columns]\n       age  workclass  education  educationno  maritalstatus  occupation  \\\n0       25          2          1            7              4           6   \n1       38          2         11            9              2           4   \n2       28          1          7           12              2          10   \n3       44          2         15           10              2           6   \n4       34          2          0            6              4           7   \n...    ...        ...        ...          ...            ...         ...   \n15055   33          2          9           13              4           9   \n15056   39          2          9           13              0           9   \n15057   38          2          9           13              2           9   \n15058   44          2          9           13              0           0   \n15059   35          3          9           13              2           3   \n\n       relationship  race  sex  capitalgain  capitalloss  hoursperweek  native  \n0                 3     2    1            0            0            40      37  \n1                 0     4    1            0            0            50      37  \n2                 0     4    1            0            0            40      37  \n3                 0     2    1           87            0            40      37  \n4                 1     4    1            0            0            30      37  \n...             ...   ...  ...          ...          ...           ...     ...  \n15055             3     4    1            0            0            40      37  \n15056             1     4    0            0            0            36      37  \n15057             0     4    1            0            0            50      37  \n15058             3     1    1           73            0            40      37  \n15059             0     4    1            0            0            60      37  \n\n[14130 rows x 13 columns]\n"
        }
      ]
    },
    {
      "metadata": {
        "ExecuteTime": {
          "end_time": "2023-07-15T11:13:50.268801Z",
          "start_time": "2023-07-15T11:13:50.105511Z"
        },
        "trusted": true
      },
      "id": "43bc6851",
      "cell_type": "code",
      "source": "clf=MultinomialNB()\nclf.fit(x_train,y_train)",
      "execution_count": 10,
      "outputs": [
        {
          "data": {
            "text/plain": "MultinomialNB()"
          },
          "execution_count": 10,
          "metadata": {},
          "output_type": "execute_result"
        }
      ]
    },
    {
      "metadata": {
        "ExecuteTime": {
          "end_time": "2023-07-15T11:13:53.696941Z",
          "start_time": "2023-07-15T11:13:53.646968Z"
        },
        "trusted": true
      },
      "id": "dd5506c1",
      "cell_type": "code",
      "source": "y_pred=clf.predict(x_test)",
      "execution_count": 11,
      "outputs": []
    },
    {
      "metadata": {
        "ExecuteTime": {
          "end_time": "2023-07-15T11:13:57.144015Z",
          "start_time": "2023-07-15T11:13:56.448794Z"
        },
        "trusted": true
      },
      "id": "8a655738",
      "cell_type": "code",
      "source": "print(classification_report(y_test,y_pred))",
      "execution_count": 12,
      "outputs": [
        {
          "name": "stdout",
          "output_type": "stream",
          "text": "              precision    recall  f1-score   support\n\n       <=50K       0.80      0.93      0.86     10620\n        >50K       0.61      0.32      0.41      3510\n\n    accuracy                           0.78     14130\n   macro avg       0.71      0.62      0.64     14130\nweighted avg       0.76      0.78      0.75     14130\n\n"
        }
      ]
    }
  ],
  "metadata": {
    "kernelspec": {
      "name": "python3",
      "display_name": "Python 3 (ipykernel)",
      "language": "python"
    },
    "language_info": {
      "name": "python",
      "version": "3.9.12",
      "mimetype": "text/x-python",
      "codemirror_mode": {
        "name": "ipython",
        "version": 3
      },
      "pygments_lexer": "ipython3",
      "nbconvert_exporter": "python",
      "file_extension": ".py"
    },
    "gist": {
      "id": "",
      "data": {
        "description": "Assignment 12 Nieve Bayes.ipynb",
        "public": true
      }
    }
  },
  "nbformat": 4,
  "nbformat_minor": 5
}